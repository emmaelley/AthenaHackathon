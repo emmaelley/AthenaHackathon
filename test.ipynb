{
 "cells": [
  {
   "cell_type": "code",
   "execution_count": 6,
   "metadata": {},
   "outputs": [],
   "source": [
    "import pandas as pd\n",
    "import csv\n",
    "data = pd.read_csv('example_company_data.csv')"
   ]
  },
  {
   "cell_type": "code",
   "execution_count": 7,
   "metadata": {},
   "outputs": [
    {
     "data": {
      "text/html": [
       "<div>\n",
       "<style scoped>\n",
       "    .dataframe tbody tr th:only-of-type {\n",
       "        vertical-align: middle;\n",
       "    }\n",
       "\n",
       "    .dataframe tbody tr th {\n",
       "        vertical-align: top;\n",
       "    }\n",
       "\n",
       "    .dataframe thead th {\n",
       "        text-align: right;\n",
       "    }\n",
       "</style>\n",
       "<table border=\"1\" class=\"dataframe\">\n",
       "  <thead>\n",
       "    <tr style=\"text-align: right;\">\n",
       "      <th></th>\n",
       "      <th>lot_id</th>\n",
       "      <th>company_name</th>\n",
       "      <th>type</th>\n",
       "      <th>make</th>\n",
       "      <th>model</th>\n",
       "      <th>quantity</th>\n",
       "      <th>address</th>\n",
       "      <th>progress</th>\n",
       "    </tr>\n",
       "  </thead>\n",
       "  <tbody>\n",
       "    <tr>\n",
       "      <th>0</th>\n",
       "      <td>1</td>\n",
       "      <td>Athena Hackathon</td>\n",
       "      <td>laptop</td>\n",
       "      <td>Apple</td>\n",
       "      <td>MacBook Pro (2018)</td>\n",
       "      <td>2</td>\n",
       "      <td>10 South Pl, London EC2M 7EB</td>\n",
       "      <td>Requested</td>\n",
       "    </tr>\n",
       "    <tr>\n",
       "      <th>1</th>\n",
       "      <td>2</td>\n",
       "      <td>Pwc</td>\n",
       "      <td>mobile phone</td>\n",
       "      <td>Huaweii</td>\n",
       "      <td>p30 pro</td>\n",
       "      <td>7</td>\n",
       "      <td>1 Embankment Pl, London WC2N 6RH</td>\n",
       "      <td>Allocated</td>\n",
       "    </tr>\n",
       "    <tr>\n",
       "      <th>2</th>\n",
       "      <td>3</td>\n",
       "      <td>Beamery</td>\n",
       "      <td>tablet</td>\n",
       "      <td>Apple</td>\n",
       "      <td>iPad mini 2019</td>\n",
       "      <td>3</td>\n",
       "      <td>97-101 Hackney Rd, London E2 8ET</td>\n",
       "      <td>Available</td>\n",
       "    </tr>\n",
       "    <tr>\n",
       "      <th>3</th>\n",
       "      <td>4</td>\n",
       "      <td>Visa</td>\n",
       "      <td>laptop</td>\n",
       "      <td>Acer</td>\n",
       "      <td>Swift 3 AMD</td>\n",
       "      <td>4</td>\n",
       "      <td>107 Fleet St, London EC4A 2AB</td>\n",
       "      <td>Collected</td>\n",
       "    </tr>\n",
       "    <tr>\n",
       "      <th>4</th>\n",
       "      <td>5</td>\n",
       "      <td>Exclaimer</td>\n",
       "      <td>mobile phone</td>\n",
       "      <td>Lenovo</td>\n",
       "      <td>ThinkPad E14</td>\n",
       "      <td>12</td>\n",
       "      <td>250 Fowler Ave, Farnborough GU14 7JP</td>\n",
       "      <td>Available</td>\n",
       "    </tr>\n",
       "  </tbody>\n",
       "</table>\n",
       "</div>"
      ],
      "text/plain": [
       "   lot_id      company_name          type     make               model  \\\n",
       "0       1  Athena Hackathon        laptop    Apple  MacBook Pro (2018)   \n",
       "1       2               Pwc  mobile phone  Huaweii             p30 pro   \n",
       "2       3           Beamery        tablet    Apple      iPad mini 2019   \n",
       "3       4              Visa        laptop     Acer         Swift 3 AMD   \n",
       "4       5         Exclaimer  mobile phone   Lenovo        ThinkPad E14   \n",
       "\n",
       "   quantity                               address   progress  \n",
       "0         2          10 South Pl, London EC2M 7EB  Requested  \n",
       "1         7      1 Embankment Pl, London WC2N 6RH  Allocated  \n",
       "2         3      97-101 Hackney Rd, London E2 8ET  Available  \n",
       "3         4         107 Fleet St, London EC4A 2AB  Collected  \n",
       "4        12  250 Fowler Ave, Farnborough GU14 7JP  Available  "
      ]
     },
     "execution_count": 7,
     "metadata": {},
     "output_type": "execute_result"
    }
   ],
   "source": [
    "data.head()"
   ]
  },
  {
   "cell_type": "code",
   "execution_count": 8,
   "metadata": {},
   "outputs": [],
   "source": [
    "from geopy.geocoders import Nominatim\n",
    "def latLonFinder(address):\n",
    "    try:\n",
    "        location = geolocator.geocode(str(address))\n",
    "        return pd.Series([location.latitude, location.longitude])\n",
    "    except:\n",
    "        return pd.Series([0,0])"
   ]
  },
  {
   "cell_type": "code",
   "execution_count": 5,
   "metadata": {},
   "outputs": [
    {
     "name": "stdout",
     "output_type": "stream",
     "text": [
      "   lot_id      company_name          type     make               model  \\\n",
      "0       1  Athena Hackathon        laptop    Apple  MacBook Pro (2018)   \n",
      "1       2               Pwc  mobile phone  Huaweii             p30 pro   \n",
      "2       3           Beamery        tablet    Apple      iPad mini 2019   \n",
      "3       4              Visa        laptop     Acer         Swift 3 AMD   \n",
      "4       5         Exclaimer  mobile phone   Lenovo        ThinkPad E14   \n",
      "\n",
      "   quantity                               address   progress        lat  \\\n",
      "0         2          10 South Pl, London EC2M 7EB  Requested  51.518815   \n",
      "1         7      1 Embankment Pl, London WC2N 6RH  Allocated  51.507818   \n",
      "2         3      97-101 Hackney Rd, London E2 8ET  Available  51.527758   \n",
      "3         4         107 Fleet St, London EC4A 2AB  Collected  51.514299   \n",
      "4        12  250 Fowler Ave, Farnborough GU14 7JP  Available  51.285018   \n",
      "\n",
      "        lon  \n",
      "0 -0.086307  \n",
      "1 -0.123686  \n",
      "2 -0.076484  \n",
      "3 -0.104835  \n",
      "4 -0.759914  \n"
     ]
    }
   ],
   "source": [
    "geolocator = Nominatim(user_agent=\"myGeocoder\")\n",
    "data[[\"lat\",\"lon\"]] = data['address'].apply(latLonFinder)\n",
    "print(data.head())"
   ]
  },
  {
   "cell_type": "code",
   "execution_count": null,
   "metadata": {},
   "outputs": [],
   "source": []
  }
 ],
 "metadata": {
  "interpreter": {
   "hash": "da96ad964f1d0b015d8119054b498a4fa6546fda94da418bf29c1f3a61935201"
  },
  "kernelspec": {
   "display_name": "Python 3.9.7 ('base')",
   "language": "python",
   "name": "python3"
  },
  "language_info": {
   "codemirror_mode": {
    "name": "ipython",
    "version": 3
   },
   "file_extension": ".py",
   "mimetype": "text/x-python",
   "name": "python",
   "nbconvert_exporter": "python",
   "pygments_lexer": "ipython3",
   "version": "3.9.7"
  },
  "orig_nbformat": 4
 },
 "nbformat": 4,
 "nbformat_minor": 2
}
